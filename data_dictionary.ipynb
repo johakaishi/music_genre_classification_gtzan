{
 "cells": [
  {
   "cell_type": "markdown",
   "metadata": {},
   "source": [
    "<a id='back_to_top'></a>"
   ]
  },
  {
   "cell_type": "markdown",
   "metadata": {},
   "source": [
    "# Data Dictionary\n",
    "\n",
    "\n",
    "<br><br>\n",
    "List of Variables:<br>\n",
    "- [filename](#filename)<br>\n",
    "- [length](#length)<br>\n",
    "- [chroma stft](#chroma)<br>\n",
    "- [rms](#rms)<br>\n",
    "- [spectral_centroid](#spectral_centroid)<br>\n",
    "- [spectral_bandwidth](#spectral_bandwidth)<br>\n",
    "- [rolloff](#rolloff)<br>\n",
    "- [zero crossing rate](#zero_crossing)<br>\n",
    "- [tempo](#tempo)<br>\n",
    "- [mfcc](#mfcc)<br>\n",
    "- [label](#label)<br>\n",
    "<br>\n",
    "- [summary table of variables](#summary_table)<br>"
   ]
  },
  {
   "cell_type": "markdown",
   "metadata": {},
   "source": [
    "<a id='filename'></a>"
   ]
  },
  {
   "cell_type": "markdown",
   "metadata": {},
   "source": [
    "---\n",
    "**filename**<br><br>\n",
    "\n",
    "Name of the file / observation, following the format: genre.number.wav (eg 'blues.00000.0.wav', 'hiphop.00045.3.wav', 'rock.00016.4.wav', etc)\n",
    "\n",
    "[(back to top)](#back_to_top)"
   ]
  },
  {
   "cell_type": "markdown",
   "metadata": {},
   "source": [
    "<a id='length'></a>"
   ]
  },
  {
   "cell_type": "markdown",
   "metadata": {},
   "source": [
    "---\n",
    "**length**<br><br>\n",
    "\n",
    "Length of each track observation, given in sample number. All observations are the same value of 66149 samples; at a sample rate of 22050 Hz, this amounts to approx 3 second audio samples.\n",
    "\n",
    "[(back to top)](#back_to_top)"
   ]
  },
  {
   "cell_type": "markdown",
   "metadata": {},
   "source": [
    "<a id='chroma'></a>"
   ]
  },
  {
   "cell_type": "markdown",
   "metadata": {},
   "source": [
    "---\n",
    "**chroma_stft_mean**, **chroma_stft_var**<br><br>\n",
    "\n",
    "Chroma represents the tonal content of an audio signal and is closely related to the pitch class. Short time fourier transforms are used to determine the sinusoidal frequency and phase content of local sections (ie short segments) of a signal as it changes over time.<br>\n",
    "[link](https://www.researchgate.net/publication/330796993_Chroma_Feature_Extraction)<br>\n",
    "[link](https://en.wikipedia.org/wiki/Short-time_Fourier_transform#:~:text=The%20Short%2Dtime%20Fourier%20transform,as%20it%20changes%20over%20time.)"
   ]
  },
  {
   "cell_type": "markdown",
   "metadata": {},
   "source": [
    "[(back to top)](#back_to_top)"
   ]
  },
  {
   "cell_type": "markdown",
   "metadata": {},
   "source": [
    "<a id='rms'></a>"
   ]
  },
  {
   "cell_type": "markdown",
   "metadata": {},
   "source": [
    "---\n",
    "**rms_mean**, **rms_var**<br><br>\n",
    "\n",
    "'Root mean square' is the average signal (or waveform) amplitude. Effectively, it is the average power of the signal. Root mean square is taken (as opposed to simply the arithmetic mean) in order to account for the negative sign that signals can take; signals oscillate between positive and negative.<br>\n",
    "[link](https://en.wikipedia.org/wiki/Root_mean_square)"
   ]
  },
  {
   "cell_type": "markdown",
   "metadata": {},
   "source": [
    "[(back to top)](#back_to_top)"
   ]
  },
  {
   "cell_type": "markdown",
   "metadata": {},
   "source": [
    "<a id='spectral_centroid'></a>"
   ]
  },
  {
   "cell_type": "markdown",
   "metadata": {},
   "source": [
    "---\n",
    "**spectral_centroid_mean**, **spectral_centroid_var**<br><br>\n",
    "\n",
    "The spectral centroid is the \"centre of gravity\" of the magnitude spectrum of the STFT:\n",
    "<br><br>\n",
    "$$C_t = \\frac{\\sum_{n=1}^N M_t[n] * n}{\\sum_{n=1}^N M_t[n]}$$\n",
    "<br>\n",
    "\n",
    "where $M_t[n]$ is the magnitude of the Fourier transform at frame $t$ and frequency bin $n$. The centroid is a measure of spectral shape and higher centroid values correspond to “brighter” textures with more high frequencies.<br>[link](https://www.researchgate.net/publication/3333877_Musical_Genre_Classification_of_Audio_Signals)"
   ]
  },
  {
   "cell_type": "markdown",
   "metadata": {},
   "source": [
    "[(back to top)](#back_to_top)"
   ]
  },
  {
   "cell_type": "markdown",
   "metadata": {},
   "source": [
    "<a id='spectral_bandwidth'></a>"
   ]
  },
  {
   "cell_type": "markdown",
   "metadata": {},
   "source": [
    "---\n",
    "**spectral_bandwidth_mean**, **spectral_bandwidth_var**<br><br>\n",
    "\n",
    "The spectral bandwidth describes the difference (bandwidth) between the highest and lowest frequencies (spectrum) present in the audio signal.<br> \n",
    "[link](https://www.andrew.cmu.edu/user/rk2x/telclass.dir/hw.dir/hw2s97sol.html)<br>\n",
    "[link](https://en.wikipedia.org/wiki/Spectral_width)"
   ]
  },
  {
   "cell_type": "markdown",
   "metadata": {},
   "source": [
    "[(back to top)](#back_to_top)"
   ]
  },
  {
   "cell_type": "markdown",
   "metadata": {},
   "source": [
    "<a id='rolloff'></a>"
   ]
  },
  {
   "cell_type": "markdown",
   "metadata": {},
   "source": [
    "---\n",
    "**rolloff_mean**, **rolloff_var**<br><br>\n",
    "\n",
    "The spectral rolloff is defined as the frequency below which 85% of the magnitude distribution is concentrated. The rolloff is another measure of spectral shape.<br>[link](https://www.researchgate.net/publication/3333877_Musical_Genre_Classification_of_Audio_Signals)\n",
    "\n",
    "$$\\sum_{n=1}^{R_t} M_t [n] = 0.85 * \\sum_{n=1}^{N} M_t [n] $$"
   ]
  },
  {
   "cell_type": "markdown",
   "metadata": {},
   "source": [
    "[(back to top)](#back_to_top)"
   ]
  },
  {
   "cell_type": "markdown",
   "metadata": {},
   "source": [
    "<a id='zero_crossing'></a>"
   ]
  },
  {
   "cell_type": "markdown",
   "metadata": {},
   "source": [
    "---\n",
    "**zero_crossing_rate_mean**, **zero_crossing_rate_var**<br><br>\n",
    "\n",
    "The zero crossing rate is the rate at which a signal changes from positive to zero to negative or from negative to zero to positive. Its value has been widely used in both speech recognition and music information retrieval, being a key feature to classify percussive sounds.<br>[link](https://en.wikipedia.org/wiki/Zero-crossing_rate)"
   ]
  },
  {
   "cell_type": "markdown",
   "metadata": {},
   "source": [
    "[(back to top)](#back_to_top)"
   ]
  },
  {
   "cell_type": "markdown",
   "metadata": {},
   "source": [
    "<a id='tempo'></a>"
   ]
  },
  {
   "cell_type": "markdown",
   "metadata": {},
   "source": [
    "---\n",
    "**tempo**<br><br>\n",
    "\n",
    "The tempo of the track, measured in beats per minute."
   ]
  },
  {
   "cell_type": "markdown",
   "metadata": {},
   "source": [
    "[(back to top)](#back_to_top)"
   ]
  },
  {
   "cell_type": "markdown",
   "metadata": {},
   "source": [
    "<a id='mfcc'></a>"
   ]
  },
  {
   "cell_type": "markdown",
   "metadata": {},
   "source": [
    "---\n",
    "**mfcc**<br><br>\n",
    "\n",
    "Mel Frequency Cepstral Coefficient (MFCC) are perceptually motivated features that are also based on the STFT (short time fourier transform). After taking the log-amplitude of the magnitude spectrum, the FFT bins are grouped and smoothed according to the perceptually motivated Mel-frequency scaling. Finally, in order to decorrelate the resulting feature vectors a discrete cosine transform is performed.<br>[link](https://www.researchgate.net/publication/3333877_Musical_Genre_Classification_of_Audio_Signals)<br><br>Derivation of MFCC:<br>1. Take the Fourier transform of (a windowed excerpt of) a signal.<br>2. Map the powers of the spectrum obtained above onto the mel scale, using triangular overlapping windows.<br>3. Take the logs of the powers at each of the mel frequencies.<br>4. Take the discrete cosine transform of the list of mel log powers, as if it were a signal.<br>5. The MFCCs are the amplitudes of the resulting spectrum.<br>[link](https://en.wikipedia.org/wiki/Mel-frequency_cepstrum)<br><br>Converting frequency scale to mel scale:$$ m = 2595 . log(1+\\frac{f}{700})$$<br>Traditionally, the first 13 coefficients are taken as they contain information about the formants. These 13 coefficients are commonly used for speech recognition.<br>Taking the first and second derivatives ($\\Delta mfcc$, and $\\Delta\\Delta mfcc$) provides further coefficients (up to 26 and 39 respectively), which assist to boost accuracy in modelling.<br><br>"
   ]
  },
  {
   "cell_type": "markdown",
   "metadata": {},
   "source": [
    "[(back to top)](#back_to_top)"
   ]
  },
  {
   "cell_type": "markdown",
   "metadata": {},
   "source": [
    "<a id='label'></a>"
   ]
  },
  {
   "cell_type": "markdown",
   "metadata": {},
   "source": [
    "---\n",
    "**label**<br><br>\n",
    "\n",
    "The genre of the track observation ('blues', 'hiphop', 'rock', 'classical', etc). 10 unique labels for the 10 different genres.<br> \n",
    "This is the target (dependent) variable."
   ]
  },
  {
   "cell_type": "markdown",
   "metadata": {},
   "source": [
    "[(back to top)](#back_to_top)"
   ]
  },
  {
   "cell_type": "markdown",
   "metadata": {},
   "source": [
    "<a id='summary_table'></a>"
   ]
  },
  {
   "cell_type": "markdown",
   "metadata": {},
   "source": [
    "---\n",
    "\n",
    "|Variable | Description |\n",
    "| :- | :- |\n",
    "| **filename**<br><br> | Name of the file / observation, following format: genre.number.wav (eg 'blues.00000.0.wav', 'hiphop.00045.3.wav', 'rock.00016.4.wav', etc<br><br><br> |\n",
    "| **length**<br><br> | Length of each track observation, given in sample number. All observations are the same value of 66149 samples; at a sample rate of 22050 Hz, this amounts to approx 3 second audio samples.<br><br><br>|\n",
    "| **chroma_stft_mean**<br>**chroma_stft_var**<br><br> | Chroma represents the tonal content of an audio signal and is closely related to the pitch class. Short time fourier transforms are used to determine the sinusoidal frequency and phase content of local sections (ie short segments) of a signal as it changes over time.<br>[link](https://www.researchgate.net/publication/330796993_Chroma_Feature_Extraction)<br>[link](https://en.wikipedia.org/wiki/Short-time_Fourier_transform#:~:text=The%20Short%2Dtime%20Fourier%20transform,as%20it%20changes%20over%20time.)<br><br><br>|\n",
    "| **spectral_centroid_mean**<br>**spectral_centroid_var** | The spectral centroid is the \"centre of gravity\" of the magnitude spectrum of the STFT<br><br> $$C_t = \\frac{\\sum_{n=1}^N M_t[n] * n}{\\sum_{n=1}^N M_t[n]}$$<br> where $M_t[n]$ is the magnitude of the Fourier transform at frame $t$ and frequency bin $n$. The centroid is a measure of spectral shape and higher centroid values correspond to “brighter” textures with more high frequencies.<br>[link](https://www.researchgate.net/publication/3333877_Musical_Genre_Classification_of_Audio_Signals)<br><br><br> |\n",
    "| **spectral_bandwidth_mean**<br>**spectral_bandwidth_var** | The spectral bandwidth describes the difference (bandwidth) between the highest and lowest frequencies (spectrum) present in the audio signal.<br>[link](https://www.andrew.cmu.edu/user/rk2x/telclass.dir/hw.dir/hw2s97sol.html)<br>[link](https://en.wikipedia.org/wiki/Spectral_width) <br><br><br>|\n",
    "| **rolloff_mean**<br>**rolloff_var** | The spectral rolloff is defined as the frequency below which 85% of the magnitude distribution is concentrated. The rolloff is another measure of spectral shape.<br>[link](https://www.researchgate.net/publication/3333877_Musical_Genre_Classification_of_Audio_Signals)<br>$$\\sum_{n=1}^{R_t} M_t [n] = 0.85 * \\sum_{n=1}^{N} M_t [n] $$<br><br><br>|\n",
    "| **zero_crossing_rate_mean**<br>**zero_crossing_rate_var** | The zero crossing rate is the rate at which a signal changes from positive to zero to negative or from negative to zero to positive. Its value has been widely used in both speech recognition and music information retrieval, being a key feature to classify percussive sounds.<br>[link](https://en.wikipedia.org/wiki/Zero-crossing_rate) <br><br><br>|\n",
    "| **tempo**<br><br> | The tempo of the track, measured in beats per minute.<br><br><br> |\n",
    "| **mfcc**<br><br> | Mel Frequency Cepstral Coefficient (MFCC) are perceptually motivated features that are also based on the STFT (short time fourier transform). After taking the log-amplitude of the magnitude spectrum, the FFT bins are grouped and smoothed according to the perceptually motivated Mel-frequency scaling. Finally, in order to decorrelate the resulting feature vectors a discrete cosine transform is performed.<br>[link](https://www.researchgate.net/publication/3333877_Musical_Genre_Classification_of_Audio_Signals)<br><br>Derivation of MFCC:<br>1. Take the Fourier transform of (a windowed excerpt of) a signal.<br>2. Map the powers of the spectrum obtained above onto the mel scale, using triangular overlapping windows.<br>3. Take the logs of the powers at each of the mel frequencies.<br>4. Take the discrete cosine transform of the list of mel log powers, as if it were a signal.<br>5. The MFCCs are the amplitudes of the resulting spectrum.<br>[link](https://en.wikipedia.org/wiki/Mel-frequency_cepstrum)<br><br>Converting frequency scale to mel scale:$$ m = 2595 . log(1+\\frac{f}{700})$$<br>Traditionally, the first 13 coefficients are taken as they contain information about the formants. These 13 coefficients are commonly used for speech recognition.<br>Taking the first and second derivatives ($\\Delta mfcc$, and $\\Delta\\Delta mfcc$) provides further coefficients (up to 26 and 39 respectively), which assist to boost accuracy in modelling.<br><br><br> |\n",
    "| **label**<br><br> | The genre of the track observation ('blues', 'hiphop', 'rock', 'classical', etc). 10 unique labels for the 10 different genres.<br>This is the target (dependent) variable.<br><br><br> |\n"
   ]
  },
  {
   "cell_type": "markdown",
   "metadata": {},
   "source": [
    "[(back to top)](#back_to_top)"
   ]
  }
 ],
 "metadata": {
  "kernelspec": {
   "display_name": "Python 3",
   "language": "python",
   "name": "python3"
  },
  "language_info": {
   "codemirror_mode": {
    "name": "ipython",
    "version": 3
   },
   "file_extension": ".py",
   "mimetype": "text/x-python",
   "name": "python",
   "nbconvert_exporter": "python",
   "pygments_lexer": "ipython3",
   "version": "3.8.3"
  }
 },
 "nbformat": 4,
 "nbformat_minor": 4
}
